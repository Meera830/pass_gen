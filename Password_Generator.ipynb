{
  "nbformat": 4,
  "nbformat_minor": 0,
  "metadata": {
    "colab": {
      "provenance": []
    },
    "kernelspec": {
      "name": "python3",
      "display_name": "Python 3"
    },
    "language_info": {
      "name": "python"
    }
  },
  "cells": [
    {
      "cell_type": "code",
      "execution_count": 1,
      "metadata": {
        "id": "820wTpgH-vwq"
      },
      "outputs": [],
      "source": [
        "import random\n",
        "import string"
      ]
    },
    {
      "cell_type": "code",
      "source": [
        "def password(length):\n",
        "    if length < 4:\n",
        "        raise ValueError(\"Password length should be at least 4 characters.\")\n",
        "    char = string.ascii_letters + string.digits + string.punctuation\n",
        "    password = [\n",
        "        random.choice(string.ascii_uppercase), random.choice(string.ascii_lowercase),\n",
        "        random.choice(string.digits), random.choice(string.punctuation)\n",
        "    ]\n",
        "\n",
        "    password += random.choices(char, k=length-4)\n",
        "    random.shuffle(password)\n",
        "    return ''.join(password)"
      ],
      "metadata": {
        "id": "yjfvaE04-_Lq"
      },
      "execution_count": 2,
      "outputs": []
    },
    {
      "cell_type": "code",
      "source": [
        "def generate_passwords(length, count):\n",
        "    return [password(length) for _ in range(count)]\n"
      ],
      "metadata": {
        "id": "7lpkG0Ko_jmA"
      },
      "execution_count": 3,
      "outputs": []
    },
    {
      "cell_type": "code",
      "source": [
        "def main():\n",
        "    print(\"Password Generator\")\n",
        "    print(\"------------------\")\n",
        "    length = int(input(\"Enter the password length: \"))\n",
        "    count = int(input(\"Enter the number of passwords to generate: \"))\n",
        "    try:\n",
        "        passwords = generate_passwords(length, count)\n",
        "        print(\"\\nGenerated Passwords:\")\n",
        "        for i, password in enumerate(passwords, 1):\n",
        "            print(f\"{i}: {password}\")\n",
        "    except ValueError as e:\n",
        "        print(f\"Error: {e}\")"
      ],
      "metadata": {
        "id": "NI4SEEGE_snI"
      },
      "execution_count": 4,
      "outputs": []
    },
    {
      "cell_type": "code",
      "source": [
        "if __name__ == \"__main__\":\n",
        "    main()"
      ],
      "metadata": {
        "colab": {
          "base_uri": "https://localhost:8080/"
        },
        "id": "hOdHk_og_y40",
        "outputId": "a30fba63-83bc-4c2e-8892-b0d0ec0fe124"
      },
      "execution_count": 5,
      "outputs": [
        {
          "output_type": "stream",
          "name": "stdout",
          "text": [
            "Password Generator\n",
            "------------------\n",
            "Enter the password length: 5\n",
            "Enter the number of passwords to generate: 4\n",
            "\n",
            "Generated Passwords:\n",
            "1: w[7(M\n",
            "2: h8IZ-\n",
            "3: z5A<l\n",
            "4: G>ib5\n"
          ]
        }
      ]
    }
  ]
}